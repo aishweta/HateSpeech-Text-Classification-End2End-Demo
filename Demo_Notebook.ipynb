{
 "cells": [
  {
   "cell_type": "code",
   "execution_count": 28,
   "id": "19141db9",
   "metadata": {},
   "outputs": [],
   "source": [
    "from load_data import get_vocab_and_tokenizer, txt_to_csv, load_data"
   ]
  },
  {
   "cell_type": "markdown",
   "id": "1bc9ddc9",
   "metadata": {},
   "source": [
    "# text files to csv"
   ]
  },
  {
   "cell_type": "code",
   "execution_count": 4,
   "id": "ee2bdb19",
   "metadata": {},
   "outputs": [],
   "source": [
    "# Provide the paths to the text files folder and the annotation CSV file\n",
    "import warnings\n",
    "warnings.filterwarnings(\"ignore\")\n",
    "\n",
    "train_folder_path=  \"C:\\\\Users\\\\Lenovo\\\\Desktop\\\\nlp_assignment-master\\\\data\\\\hate-speech-dataset-master\\\\sampled_train\"\n",
    "\n",
    "test_folder_path=  \"C:\\\\Users\\\\Lenovo\\\\Desktop\\\\nlp_assignment-master\\\\data\\\\hate-speech-dataset-master\\\\sampled_test\"\n",
    "\n",
    "annotation_csv_path = \"C:\\\\Users\\\\Lenovo\\\\Desktop\\\\nlp_assignment-master\\\\data\\\\hate-speech-dataset-master\\\\annotations_metadata.csv\"\n",
    "\n",
    "# Convert text files to CSV format\n",
    "txt_to_csv(train_folder_path, annotation_csv_path, output_csv_path='train1.csv')\n",
    "txt_to_csv(test_folder_path, annotation_csv_path, output_csv_path='test1.csv')\n"
   ]
  },
  {
   "cell_type": "markdown",
   "id": "876a4571",
   "metadata": {},
   "source": [
    "# Data Loader"
   ]
  },
  {
   "cell_type": "code",
   "execution_count": 5,
   "id": "7f2acd16",
   "metadata": {},
   "outputs": [],
   "source": [
    "# Provide the paths to the train and test CSV files\n",
    "train_csv_path = \"train1.csv\"\n",
    "test_csv_path = \"test1.csv\"\n",
    "\n",
    "# Load train and test data and create DataLoader instances\n",
    "train_loader, valid_loader, test_loader, vocab, tokenizer = load_data(train_csv_path, test_csv_path=test_csv_path, test_size=0.2)"
   ]
  },
  {
   "cell_type": "code",
   "execution_count": 6,
   "id": "5ea6cffc",
   "metadata": {},
   "outputs": [
    {
     "data": {
      "text/plain": [
       "6056"
      ]
     },
     "execution_count": 6,
     "metadata": {},
     "output_type": "execute_result"
    }
   ],
   "source": [
    "len(vocab)"
   ]
  },
  {
   "cell_type": "markdown",
   "id": "e4910703",
   "metadata": {},
   "source": [
    "# Train model"
   ]
  },
  {
   "cell_type": "code",
   "execution_count": 41,
   "id": "70f1e30b",
   "metadata": {},
   "outputs": [
    {
     "name": "stdout",
     "output_type": "stream",
     "text": [
      "Epoch: 01, Train Loss: 0.700, Test Loss: 0.693, Accuracy: 0.509\n",
      "Epoch: 02, Train Loss: 0.695, Test Loss: 0.693, Accuracy: 0.509\n",
      "Epoch: 03, Train Loss: 0.697, Test Loss: 0.694, Accuracy: 0.488\n",
      "Epoch: 04, Train Loss: 0.695, Test Loss: 0.694, Accuracy: 0.488\n",
      "Epoch: 05, Train Loss: 0.694, Test Loss: 0.694, Accuracy: 0.488\n"
     ]
    }
   ],
   "source": [
    "from train_model import train_model, LSTMModel\n",
    "import torch.optim as optim\n",
    "\n",
    "vocab_size = len(vocab)\n",
    "\n",
    "# Instantiate the model\n",
    "model = LSTMModel(vocab_size)\n",
    "optimizer = optim.Adam(model.parameters(), lr=0.001)\n",
    "# Train the model and save weights\n",
    "N_EPOCHS = 5\n",
    "best_accuracy = 0\n",
    "model_path = './models/best_model1.pth'\n",
    "\n",
    "train_model(model, train_loader, valid_loader, N_EPOCHS, optimizer , model_path)"
   ]
  },
  {
   "cell_type": "markdown",
   "id": "003390d3",
   "metadata": {},
   "source": [
    "# Get accuracy on sampled_test"
   ]
  },
  {
   "cell_type": "code",
   "execution_count": 8,
   "id": "3d080c29",
   "metadata": {},
   "outputs": [
    {
     "name": "stdout",
     "output_type": "stream",
     "text": [
      "Epoch: 01, Train Loss: 0.694, Test Loss: 0.693, Accuracy: 0.500\n",
      "Epoch: 02, Train Loss: 0.694, Test Loss: 0.693, Accuracy: 0.500\n",
      "Epoch: 03, Train Loss: 0.694, Test Loss: 0.693, Accuracy: 0.500\n",
      "Epoch: 04, Train Loss: 0.694, Test Loss: 0.693, Accuracy: 0.500\n",
      "Epoch: 05, Train Loss: 0.693, Test Loss: 0.693, Accuracy: 0.500\n"
     ]
    }
   ],
   "source": [
    "train_model(model, train_loader, test_loader, N_EPOCHS, optimizer , model_path)"
   ]
  },
  {
   "cell_type": "code",
   "execution_count": 38,
   "id": "ab43b61a",
   "metadata": {},
   "outputs": [
    {
     "data": {
      "text/plain": [
       "0.5"
      ]
     },
     "execution_count": 38,
     "metadata": {},
     "output_type": "execute_result"
    }
   ],
   "source": [
    "# using saved model\n",
    "# Load the pretrained weights\n",
    "import torch\n",
    "import torch.nn as nn\n",
    "from train_model import evaluate\n",
    "\n",
    "pretrained_model_path = './models/best_model.pth'\n",
    "model.load_state_dict(torch.load(pretrained_model_path))\n",
    "\n",
    "# Evaluate the model on the test data\n",
    "\n",
    "test_loss, test_accuracy = evaluate(model, test_loader, nn.CrossEntropyLoss())\n",
    "test_accuracy "
   ]
  },
  {
   "cell_type": "markdown",
   "id": "a880109b",
   "metadata": {},
   "source": [
    "# prediction on input_data (text)"
   ]
  },
  {
   "cell_type": "code",
   "execution_count": 42,
   "id": "311383bd",
   "metadata": {},
   "outputs": [
    {
     "name": "stdout",
     "output_type": "stream",
     "text": [
      "Prediction: hate\n"
     ]
    }
   ],
   "source": [
    "from predict_model import predict\n",
    "\n",
    "input_data = \"I can't stand that person, they're so annoying.\"\n",
    "pretrained_model_path = './models/best_model.pth'\n",
    "prediction = predict(input_data, pretrained_model_path)\n",
    "print(\"Prediction:\", prediction)"
   ]
  },
  {
   "cell_type": "code",
   "execution_count": 37,
   "id": "401034c0",
   "metadata": {},
   "outputs": [
    {
     "name": "stdout",
     "output_type": "stream",
     "text": [
      "Prediction: hate\n"
     ]
    }
   ],
   "source": [
    "!python predict_model.py"
   ]
  },
  {
   "cell_type": "markdown",
   "id": "2fe8cf75",
   "metadata": {},
   "source": [
    "# API Testing"
   ]
  },
  {
   "cell_type": "code",
   "execution_count": 46,
   "id": "84a794de",
   "metadata": {},
   "outputs": [],
   "source": [
    "#!pip show torchtext\n",
    "#!pip show torch\n",
    "#!pip show fastapi\n",
    "#!pip show uvicorn"
   ]
  },
  {
   "cell_type": "code",
   "execution_count": 48,
   "id": "a98df110",
   "metadata": {},
   "outputs": [],
   "source": [
    "#!pip install fastapi uvicorn"
   ]
  },
  {
   "cell_type": "code",
   "execution_count": null,
   "id": "32bc5b98",
   "metadata": {},
   "outputs": [],
   "source": [
    "!uvicorn app:app --reload"
   ]
  },
  {
   "cell_type": "raw",
   "id": "c601710f",
   "metadata": {},
   "source": [
    "#swagger url\n",
    "http://127.0.0.1:8000/docs\n",
    "\n",
    "# curl\n",
    "curl -X 'POST' \\\n",
    "  'http://127.0.0.1:8000/predict/' \\\n",
    "  -H 'accept: application/json' \\\n",
    "  -H 'Content-Type: application/json' \\\n",
    "  -d '{\n",
    "  \"text\": \"I can't stand that person, they're so annoying.\"\n",
    "}'"
   ]
  }
 ],
 "metadata": {
  "kernelspec": {
   "display_name": "Python 3 (ipykernel)",
   "language": "python",
   "name": "python3"
  },
  "language_info": {
   "codemirror_mode": {
    "name": "ipython",
    "version": 3
   },
   "file_extension": ".py",
   "mimetype": "text/x-python",
   "name": "python",
   "nbconvert_exporter": "python",
   "pygments_lexer": "ipython3",
   "version": "3.9.13"
  }
 },
 "nbformat": 4,
 "nbformat_minor": 5
}
